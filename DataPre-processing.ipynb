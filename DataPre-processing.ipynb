{
 "cells": [
  {
   "cell_type": "code",
   "execution_count": 1,
   "id": "ffabe497",
   "metadata": {},
   "outputs": [
    {
     "name": "stdout",
     "output_type": "stream",
     "text": [
      "Requirement already satisfied: pandas in c:\\users\\gkamau\\appdata\\local\\anaconda3\\lib\\site-packages (1.5.3)\n",
      "Requirement already satisfied: numpy in c:\\users\\gkamau\\appdata\\local\\anaconda3\\lib\\site-packages (1.24.3)\n",
      "Requirement already satisfied: matplotlib in c:\\users\\gkamau\\appdata\\local\\anaconda3\\lib\\site-packages (3.7.1)\n",
      "Requirement already satisfied: seaborn in c:\\users\\gkamau\\appdata\\local\\anaconda3\\lib\\site-packages (0.12.2)\n",
      "Requirement already satisfied: scikit-learn in c:\\users\\gkamau\\appdata\\local\\anaconda3\\lib\\site-packages (1.3.2)\n",
      "Requirement already satisfied: missingno in c:\\users\\gkamau\\appdata\\local\\anaconda3\\lib\\site-packages (0.5.2)\n",
      "Requirement already satisfied: scipy in c:\\users\\gkamau\\appdata\\local\\anaconda3\\lib\\site-packages (1.10.1)\n",
      "Requirement already satisfied: plotly in c:\\users\\gkamau\\appdata\\local\\anaconda3\\lib\\site-packages (5.9.0)\n",
      "Requirement already satisfied: statsmodels in c:\\users\\gkamau\\appdata\\local\\anaconda3\\lib\\site-packages (0.14.0)\n",
      "Requirement already satisfied: dask in c:\\users\\gkamau\\appdata\\local\\anaconda3\\lib\\site-packages (2023.6.0)\n",
      "Requirement already satisfied: python-dateutil>=2.8.1 in c:\\users\\gkamau\\appdata\\local\\anaconda3\\lib\\site-packages (from pandas) (2.8.2)\n",
      "Requirement already satisfied: pytz>=2020.1 in c:\\users\\gkamau\\appdata\\local\\anaconda3\\lib\\site-packages (from pandas) (2022.7)\n",
      "Requirement already satisfied: contourpy>=1.0.1 in c:\\users\\gkamau\\appdata\\local\\anaconda3\\lib\\site-packages (from matplotlib) (1.0.5)\n",
      "Requirement already satisfied: cycler>=0.10 in c:\\users\\gkamau\\appdata\\local\\anaconda3\\lib\\site-packages (from matplotlib) (0.11.0)\n",
      "Requirement already satisfied: fonttools>=4.22.0 in c:\\users\\gkamau\\appdata\\local\\anaconda3\\lib\\site-packages (from matplotlib) (4.25.0)\n",
      "Requirement already satisfied: kiwisolver>=1.0.1 in c:\\users\\gkamau\\appdata\\local\\anaconda3\\lib\\site-packages (from matplotlib) (1.4.4)\n",
      "Requirement already satisfied: packaging>=20.0 in c:\\users\\gkamau\\appdata\\local\\anaconda3\\lib\\site-packages (from matplotlib) (23.0)\n",
      "Requirement already satisfied: pillow>=6.2.0 in c:\\users\\gkamau\\appdata\\local\\anaconda3\\lib\\site-packages (from matplotlib) (9.4.0)\n",
      "Requirement already satisfied: pyparsing>=2.3.1 in c:\\users\\gkamau\\appdata\\local\\anaconda3\\lib\\site-packages (from matplotlib) (3.0.9)\n",
      "Requirement already satisfied: joblib>=1.1.1 in c:\\users\\gkamau\\appdata\\local\\anaconda3\\lib\\site-packages (from scikit-learn) (1.2.0)\n",
      "Requirement already satisfied: threadpoolctl>=2.0.0 in c:\\users\\gkamau\\appdata\\local\\anaconda3\\lib\\site-packages (from scikit-learn) (2.2.0)\n",
      "Requirement already satisfied: tenacity>=6.2.0 in c:\\users\\gkamau\\appdata\\local\\anaconda3\\lib\\site-packages (from plotly) (8.2.2)\n",
      "Requirement already satisfied: patsy>=0.5.2 in c:\\users\\gkamau\\appdata\\local\\anaconda3\\lib\\site-packages (from statsmodels) (0.5.3)\n",
      "Requirement already satisfied: click>=8.0 in c:\\users\\gkamau\\appdata\\local\\anaconda3\\lib\\site-packages (from dask) (8.0.4)\n",
      "Requirement already satisfied: cloudpickle>=1.5.0 in c:\\users\\gkamau\\appdata\\local\\anaconda3\\lib\\site-packages (from dask) (2.2.1)\n",
      "Requirement already satisfied: fsspec>=2021.09.0 in c:\\users\\gkamau\\appdata\\local\\anaconda3\\lib\\site-packages (from dask) (2023.3.0)\n",
      "Requirement already satisfied: partd>=1.2.0 in c:\\users\\gkamau\\appdata\\local\\anaconda3\\lib\\site-packages (from dask) (1.2.0)\n",
      "Requirement already satisfied: pyyaml>=5.3.1 in c:\\users\\gkamau\\appdata\\local\\anaconda3\\lib\\site-packages (from dask) (6.0)\n",
      "Requirement already satisfied: toolz>=0.10.0 in c:\\users\\gkamau\\appdata\\local\\anaconda3\\lib\\site-packages (from dask) (0.12.0)\n",
      "Requirement already satisfied: importlib-metadata>=4.13.0 in c:\\users\\gkamau\\appdata\\local\\anaconda3\\lib\\site-packages (from dask) (6.0.0)\n",
      "Requirement already satisfied: colorama in c:\\users\\gkamau\\appdata\\local\\anaconda3\\lib\\site-packages (from click>=8.0->dask) (0.4.6)\n",
      "Requirement already satisfied: zipp>=0.5 in c:\\users\\gkamau\\appdata\\local\\anaconda3\\lib\\site-packages (from importlib-metadata>=4.13.0->dask) (3.11.0)\n",
      "Requirement already satisfied: locket in c:\\users\\gkamau\\appdata\\local\\anaconda3\\lib\\site-packages (from partd>=1.2.0->dask) (1.0.0)\n",
      "Requirement already satisfied: six in c:\\users\\gkamau\\appdata\\local\\anaconda3\\lib\\site-packages (from patsy>=0.5.2->statsmodels) (1.16.0)\n"
     ]
    }
   ],
   "source": [
    "!pip install pandas numpy matplotlib seaborn scikit-learn missingno scipy plotly statsmodels dask"
   ]
  },
  {
   "cell_type": "code",
   "execution_count": 2,
   "id": "19344414",
   "metadata": {},
   "outputs": [],
   "source": [
    "import pandas as pd #data manipulation and analysis\n",
    "import numpy as np #support for arrays and matrices\n",
    "import matplotlib.pyplot as plt #plots and charts\n",
    "import seaborn as sns #statistical data visualization\n",
    "#data preprocessing libraries\n",
    "from sklearn.preprocessing import StandardScaler, LabelEncoder\n",
    "from sklearn.impute import SimpleImputer\n",
    "#visualizing missing data\n",
    "import missingno as msno\n",
    "#modules optimization\n",
    "import scipy.stats as stats\n",
    "#creating interactive dashboards\n",
    "import plotly.express as px\n",
    "#estimating and testing statistical models\n",
    "import statsmodels.api as sm\n",
    "#for extra large datasets \n",
    "import dask.dataframe as dd"
   ]
  },
  {
   "cell_type": "code",
   "execution_count": 3,
   "id": "2d03e517",
   "metadata": {},
   "outputs": [],
   "source": [
    "#import data into dataframe\n",
    "df = pd.read_csv(\"zomato.csv\")"
   ]
  },
  {
   "cell_type": "code",
   "execution_count": 4,
   "id": "eb84455e",
   "metadata": {},
   "outputs": [
    {
     "data": {
      "text/html": [
       "<div>\n",
       "<style scoped>\n",
       "    .dataframe tbody tr th:only-of-type {\n",
       "        vertical-align: middle;\n",
       "    }\n",
       "\n",
       "    .dataframe tbody tr th {\n",
       "        vertical-align: top;\n",
       "    }\n",
       "\n",
       "    .dataframe thead th {\n",
       "        text-align: right;\n",
       "    }\n",
       "</style>\n",
       "<table border=\"1\" class=\"dataframe\">\n",
       "  <thead>\n",
       "    <tr style=\"text-align: right;\">\n",
       "      <th></th>\n",
       "      <th>url</th>\n",
       "      <th>address</th>\n",
       "      <th>name</th>\n",
       "      <th>online_order</th>\n",
       "      <th>book_table</th>\n",
       "      <th>rate</th>\n",
       "      <th>votes</th>\n",
       "      <th>phone</th>\n",
       "      <th>location</th>\n",
       "      <th>rest_type</th>\n",
       "      <th>dish_liked</th>\n",
       "      <th>cuisines</th>\n",
       "      <th>approx_cost(for two people)</th>\n",
       "      <th>reviews_list</th>\n",
       "      <th>menu_item</th>\n",
       "      <th>listed_in(type)</th>\n",
       "      <th>listed_in(city)</th>\n",
       "    </tr>\n",
       "  </thead>\n",
       "  <tbody>\n",
       "    <tr>\n",
       "      <th>27700</th>\n",
       "      <td>https://www.zomato.com/bangalore/hyderabadi-bi...</td>\n",
       "      <td>49/8, 29th B Main, 100 Feet Ring Road, 1st Sta...</td>\n",
       "      <td>Hyderabadi Biryani House</td>\n",
       "      <td>No</td>\n",
       "      <td>No</td>\n",
       "      <td>NEW</td>\n",
       "      <td>0</td>\n",
       "      <td>00 08041160999\\r\\n+91 9343377779</td>\n",
       "      <td>BTM</td>\n",
       "      <td>Quick Bites</td>\n",
       "      <td>NaN</td>\n",
       "      <td>Biryani</td>\n",
       "      <td>300</td>\n",
       "      <td>[]</td>\n",
       "      <td>[]</td>\n",
       "      <td>Delivery</td>\n",
       "      <td>Koramangala 4th Block</td>\n",
       "    </tr>\n",
       "    <tr>\n",
       "      <th>26126</th>\n",
       "      <td>https://www.zomato.com/bangalore/suvarna-sree-...</td>\n",
       "      <td>433/2, 4th Main, Munireddy Layout, Horamavu Ma...</td>\n",
       "      <td>Suvarna Sree Food Paradise</td>\n",
       "      <td>Yes</td>\n",
       "      <td>No</td>\n",
       "      <td>3.9 /5</td>\n",
       "      <td>63</td>\n",
       "      <td>+91 7411999661\\n+91 9964552255</td>\n",
       "      <td>Banaswadi</td>\n",
       "      <td>Quick Bites</td>\n",
       "      <td>Biryani</td>\n",
       "      <td>South Indian, Chinese, North Indian, Biryani</td>\n",
       "      <td>400</td>\n",
       "      <td>[('Rated 5.0', 'RATED\\n  Good quality and quan...</td>\n",
       "      <td>['Breakfast Thali [Mini]', 'Breakfast Thali [F...</td>\n",
       "      <td>Dine-out</td>\n",
       "      <td>Kammanahalli</td>\n",
       "    </tr>\n",
       "    <tr>\n",
       "      <th>26927</th>\n",
       "      <td>https://www.zomato.com/bangalore/pappu-chaiwal...</td>\n",
       "      <td>36, 20th Main, 1st Stage, BTM, Bangalore</td>\n",
       "      <td>Pappu Chaiwalla</td>\n",
       "      <td>Yes</td>\n",
       "      <td>No</td>\n",
       "      <td>3.1/5</td>\n",
       "      <td>89</td>\n",
       "      <td>080 49721444</td>\n",
       "      <td>BTM</td>\n",
       "      <td>Quick Bites</td>\n",
       "      <td>Ginger Chai, Ginger Tea, Pakoda, Paratha, Magg...</td>\n",
       "      <td>North Indian, Momos, Rolls, Fast Food</td>\n",
       "      <td>350</td>\n",
       "      <td>[('Rated 3.0', \"RATED\\n  So I ordered stuffed ...</td>\n",
       "      <td>['Kethli Chai [4 Cutting]', 'Pappu ka Apna San...</td>\n",
       "      <td>Delivery</td>\n",
       "      <td>Koramangala 4th Block</td>\n",
       "    </tr>\n",
       "    <tr>\n",
       "      <th>44807</th>\n",
       "      <td>https://www.zomato.com/bangalore/burger-king-i...</td>\n",
       "      <td>Next to CMH Metro Station, CMH Road, Indiranag...</td>\n",
       "      <td>Burger King</td>\n",
       "      <td>Yes</td>\n",
       "      <td>No</td>\n",
       "      <td>4.0 /5</td>\n",
       "      <td>1400</td>\n",
       "      <td>+91 9513447700\\n+91 9741959214</td>\n",
       "      <td>Indiranagar</td>\n",
       "      <td>Quick Bites</td>\n",
       "      <td>Burgers, Tandoori Grill Burger, Mango Shake, C...</td>\n",
       "      <td>Burger, Fast Food, Beverages</td>\n",
       "      <td>600</td>\n",
       "      <td>[('Rated 1.0', \"RATED\\n  Not a dine in experie...</td>\n",
       "      <td>['Chicken WhopperÃ\\x83Ã\\x83Ã\\x82Ã\\x83Ã\\x8...</td>\n",
       "      <td>Delivery</td>\n",
       "      <td>Old Airport Road</td>\n",
       "    </tr>\n",
       "    <tr>\n",
       "      <th>22747</th>\n",
       "      <td>https://www.zomato.com/bangalore/earth-plate-e...</td>\n",
       "      <td>Food Court, Central Shopping Mall, 45th Cross,...</td>\n",
       "      <td>Earth Plate Express</td>\n",
       "      <td>Yes</td>\n",
       "      <td>No</td>\n",
       "      <td>3.9/5</td>\n",
       "      <td>33</td>\n",
       "      <td>+91 9741428291</td>\n",
       "      <td>JP Nagar</td>\n",
       "      <td>Food Court</td>\n",
       "      <td>NaN</td>\n",
       "      <td>Italian, Continental</td>\n",
       "      <td>600</td>\n",
       "      <td>[('Rated 4.0', 'RATED\\n  Well Earth Plate Expr...</td>\n",
       "      <td>[]</td>\n",
       "      <td>Delivery</td>\n",
       "      <td>JP Nagar</td>\n",
       "    </tr>\n",
       "    <tr>\n",
       "      <th>16006</th>\n",
       "      <td>https://www.zomato.com/bangalore/five-star-chi...</td>\n",
       "      <td>99/4, Kudlu, Haralur Main Road, Sarjapur Road,...</td>\n",
       "      <td>Five Star Chicken</td>\n",
       "      <td>Yes</td>\n",
       "      <td>No</td>\n",
       "      <td>3.3/5</td>\n",
       "      <td>55</td>\n",
       "      <td>+91 7090221113\\r\\n+91 9886371234</td>\n",
       "      <td>Sarjapur Road</td>\n",
       "      <td>Quick Bites</td>\n",
       "      <td>NaN</td>\n",
       "      <td>Roast Chicken, Burger</td>\n",
       "      <td>300</td>\n",
       "      <td>[('Rated 5.0', 'RATED\\n  I was extremely impre...</td>\n",
       "      <td>[]</td>\n",
       "      <td>Delivery</td>\n",
       "      <td>HSR</td>\n",
       "    </tr>\n",
       "    <tr>\n",
       "      <th>39300</th>\n",
       "      <td>https://www.zomato.com/bangalore/al-madina-fam...</td>\n",
       "      <td>127, NR Road, City Market, Bangalore</td>\n",
       "      <td>Al Madina Family Restaurant</td>\n",
       "      <td>No</td>\n",
       "      <td>No</td>\n",
       "      <td>NaN</td>\n",
       "      <td>0</td>\n",
       "      <td>+91 9513125836</td>\n",
       "      <td>City Market</td>\n",
       "      <td>Quick Bites</td>\n",
       "      <td>NaN</td>\n",
       "      <td>North Indian, South Indian, Arabian</td>\n",
       "      <td>500</td>\n",
       "      <td>[]</td>\n",
       "      <td>[]</td>\n",
       "      <td>Dine-out</td>\n",
       "      <td>Lavelle Road</td>\n",
       "    </tr>\n",
       "    <tr>\n",
       "      <th>23920</th>\n",
       "      <td>https://www.zomato.com/bangalore/vijayalakshmi...</td>\n",
       "      <td>Venkateshpura 21-4, P &amp; T Colony, Arabic Colle...</td>\n",
       "      <td>Vijayalakshmi Veg</td>\n",
       "      <td>Yes</td>\n",
       "      <td>No</td>\n",
       "      <td>3.9/5</td>\n",
       "      <td>29</td>\n",
       "      <td>+91 9964070518</td>\n",
       "      <td>Nagawara</td>\n",
       "      <td>Quick Bites</td>\n",
       "      <td>NaN</td>\n",
       "      <td>South Indian</td>\n",
       "      <td>200</td>\n",
       "      <td>[('Rated 4.0', 'RATED\\n  Not bad its gud here ...</td>\n",
       "      <td>[]</td>\n",
       "      <td>Delivery</td>\n",
       "      <td>Kalyan Nagar</td>\n",
       "    </tr>\n",
       "    <tr>\n",
       "      <th>5910</th>\n",
       "      <td>https://www.zomato.com/bangalore/delhi-bhavan-...</td>\n",
       "      <td>44/A, K Kamaraj Road, Commercial Street Area, ...</td>\n",
       "      <td>Delhi Bhavan</td>\n",
       "      <td>No</td>\n",
       "      <td>No</td>\n",
       "      <td>3.4/5</td>\n",
       "      <td>11</td>\n",
       "      <td>080 25512929</td>\n",
       "      <td>Commercial Street</td>\n",
       "      <td>Quick Bites</td>\n",
       "      <td>NaN</td>\n",
       "      <td>Street Food, Mithai</td>\n",
       "      <td>150</td>\n",
       "      <td>[('Rated 5.0', 'RATED\\n  Best class sweets, be...</td>\n",
       "      <td>[]</td>\n",
       "      <td>Desserts</td>\n",
       "      <td>Brigade Road</td>\n",
       "    </tr>\n",
       "    <tr>\n",
       "      <th>11894</th>\n",
       "      <td>https://www.zomato.com/bangalore/mad-over-biry...</td>\n",
       "      <td>Shop 19, Ground Floor, Kalpak Arcade, Church S...</td>\n",
       "      <td>Mad Over Biryani</td>\n",
       "      <td>Yes</td>\n",
       "      <td>No</td>\n",
       "      <td>2.9/5</td>\n",
       "      <td>17</td>\n",
       "      <td>080 65555604</td>\n",
       "      <td>Church Street</td>\n",
       "      <td>Quick Bites</td>\n",
       "      <td>NaN</td>\n",
       "      <td>North Indian, Biryani</td>\n",
       "      <td>600</td>\n",
       "      <td>[('Rated 1.0', 'RATED\\n  Please go here if you...</td>\n",
       "      <td>[]</td>\n",
       "      <td>Delivery</td>\n",
       "      <td>Church Street</td>\n",
       "    </tr>\n",
       "  </tbody>\n",
       "</table>\n",
       "</div>"
      ],
      "text/plain": [
       "                                                     url  \\\n",
       "27700  https://www.zomato.com/bangalore/hyderabadi-bi...   \n",
       "26126  https://www.zomato.com/bangalore/suvarna-sree-...   \n",
       "26927  https://www.zomato.com/bangalore/pappu-chaiwal...   \n",
       "44807  https://www.zomato.com/bangalore/burger-king-i...   \n",
       "22747  https://www.zomato.com/bangalore/earth-plate-e...   \n",
       "16006  https://www.zomato.com/bangalore/five-star-chi...   \n",
       "39300  https://www.zomato.com/bangalore/al-madina-fam...   \n",
       "23920  https://www.zomato.com/bangalore/vijayalakshmi...   \n",
       "5910   https://www.zomato.com/bangalore/delhi-bhavan-...   \n",
       "11894  https://www.zomato.com/bangalore/mad-over-biry...   \n",
       "\n",
       "                                                 address  \\\n",
       "27700  49/8, 29th B Main, 100 Feet Ring Road, 1st Sta...   \n",
       "26126  433/2, 4th Main, Munireddy Layout, Horamavu Ma...   \n",
       "26927           36, 20th Main, 1st Stage, BTM, Bangalore   \n",
       "44807  Next to CMH Metro Station, CMH Road, Indiranag...   \n",
       "22747  Food Court, Central Shopping Mall, 45th Cross,...   \n",
       "16006  99/4, Kudlu, Haralur Main Road, Sarjapur Road,...   \n",
       "39300               127, NR Road, City Market, Bangalore   \n",
       "23920  Venkateshpura 21-4, P & T Colony, Arabic Colle...   \n",
       "5910   44/A, K Kamaraj Road, Commercial Street Area, ...   \n",
       "11894  Shop 19, Ground Floor, Kalpak Arcade, Church S...   \n",
       "\n",
       "                              name online_order book_table    rate  votes  \\\n",
       "27700     Hyderabadi Biryani House           No         No     NEW      0   \n",
       "26126   Suvarna Sree Food Paradise          Yes         No  3.9 /5     63   \n",
       "26927              Pappu Chaiwalla          Yes         No   3.1/5     89   \n",
       "44807                  Burger King          Yes         No  4.0 /5   1400   \n",
       "22747          Earth Plate Express          Yes         No   3.9/5     33   \n",
       "16006            Five Star Chicken          Yes         No   3.3/5     55   \n",
       "39300  Al Madina Family Restaurant           No         No     NaN      0   \n",
       "23920            Vijayalakshmi Veg          Yes         No   3.9/5     29   \n",
       "5910                  Delhi Bhavan           No         No   3.4/5     11   \n",
       "11894             Mad Over Biryani          Yes         No   2.9/5     17   \n",
       "\n",
       "                                  phone           location    rest_type  \\\n",
       "27700  00 08041160999\\r\\n+91 9343377779                BTM  Quick Bites   \n",
       "26126    +91 7411999661\\n+91 9964552255          Banaswadi  Quick Bites   \n",
       "26927                      080 49721444                BTM  Quick Bites   \n",
       "44807    +91 9513447700\\n+91 9741959214        Indiranagar  Quick Bites   \n",
       "22747                    +91 9741428291           JP Nagar   Food Court   \n",
       "16006  +91 7090221113\\r\\n+91 9886371234      Sarjapur Road  Quick Bites   \n",
       "39300                    +91 9513125836        City Market  Quick Bites   \n",
       "23920                    +91 9964070518           Nagawara  Quick Bites   \n",
       "5910                       080 25512929  Commercial Street  Quick Bites   \n",
       "11894                      080 65555604      Church Street  Quick Bites   \n",
       "\n",
       "                                              dish_liked  \\\n",
       "27700                                                NaN   \n",
       "26126                                            Biryani   \n",
       "26927  Ginger Chai, Ginger Tea, Pakoda, Paratha, Magg...   \n",
       "44807  Burgers, Tandoori Grill Burger, Mango Shake, C...   \n",
       "22747                                                NaN   \n",
       "16006                                                NaN   \n",
       "39300                                                NaN   \n",
       "23920                                                NaN   \n",
       "5910                                                 NaN   \n",
       "11894                                                NaN   \n",
       "\n",
       "                                           cuisines  \\\n",
       "27700                                       Biryani   \n",
       "26126  South Indian, Chinese, North Indian, Biryani   \n",
       "26927         North Indian, Momos, Rolls, Fast Food   \n",
       "44807                  Burger, Fast Food, Beverages   \n",
       "22747                          Italian, Continental   \n",
       "16006                         Roast Chicken, Burger   \n",
       "39300           North Indian, South Indian, Arabian   \n",
       "23920                                  South Indian   \n",
       "5910                            Street Food, Mithai   \n",
       "11894                         North Indian, Biryani   \n",
       "\n",
       "      approx_cost(for two people)  \\\n",
       "27700                         300   \n",
       "26126                         400   \n",
       "26927                         350   \n",
       "44807                         600   \n",
       "22747                         600   \n",
       "16006                         300   \n",
       "39300                         500   \n",
       "23920                         200   \n",
       "5910                          150   \n",
       "11894                         600   \n",
       "\n",
       "                                            reviews_list  \\\n",
       "27700                                                 []   \n",
       "26126  [('Rated 5.0', 'RATED\\n  Good quality and quan...   \n",
       "26927  [('Rated 3.0', \"RATED\\n  So I ordered stuffed ...   \n",
       "44807  [('Rated 1.0', \"RATED\\n  Not a dine in experie...   \n",
       "22747  [('Rated 4.0', 'RATED\\n  Well Earth Plate Expr...   \n",
       "16006  [('Rated 5.0', 'RATED\\n  I was extremely impre...   \n",
       "39300                                                 []   \n",
       "23920  [('Rated 4.0', 'RATED\\n  Not bad its gud here ...   \n",
       "5910   [('Rated 5.0', 'RATED\\n  Best class sweets, be...   \n",
       "11894  [('Rated 1.0', 'RATED\\n  Please go here if you...   \n",
       "\n",
       "                                               menu_item listed_in(type)  \\\n",
       "27700                                                 []        Delivery   \n",
       "26126  ['Breakfast Thali [Mini]', 'Breakfast Thali [F...        Dine-out   \n",
       "26927  ['Kethli Chai [4 Cutting]', 'Pappu ka Apna San...        Delivery   \n",
       "44807  ['Chicken WhopperÃ\\x83Ã\\x83Ã\\x82Ã\\x83Ã\\x8...        Delivery   \n",
       "22747                                                 []        Delivery   \n",
       "16006                                                 []        Delivery   \n",
       "39300                                                 []        Dine-out   \n",
       "23920                                                 []        Delivery   \n",
       "5910                                                  []        Desserts   \n",
       "11894                                                 []        Delivery   \n",
       "\n",
       "             listed_in(city)  \n",
       "27700  Koramangala 4th Block  \n",
       "26126           Kammanahalli  \n",
       "26927  Koramangala 4th Block  \n",
       "44807       Old Airport Road  \n",
       "22747               JP Nagar  \n",
       "16006                    HSR  \n",
       "39300           Lavelle Road  \n",
       "23920           Kalyan Nagar  \n",
       "5910            Brigade Road  \n",
       "11894          Church Street  "
      ]
     },
     "execution_count": 4,
     "metadata": {},
     "output_type": "execute_result"
    }
   ],
   "source": [
    "#view any 10 rows\n",
    "df.sample(10)"
   ]
  },
  {
   "cell_type": "code",
   "execution_count": 5,
   "id": "71a0634c",
   "metadata": {},
   "outputs": [
    {
     "data": {
      "text/plain": [
       "(51717, 17)"
      ]
     },
     "execution_count": 5,
     "metadata": {},
     "output_type": "execute_result"
    }
   ],
   "source": [
    "#number of columns & rows\n",
    "df.shape"
   ]
  },
  {
   "cell_type": "code",
   "execution_count": 6,
   "id": "2d506ca6",
   "metadata": {
    "scrolled": true
   },
   "outputs": [
    {
     "name": "stdout",
     "output_type": "stream",
     "text": [
      "<class 'pandas.core.frame.DataFrame'>\n",
      "RangeIndex: 51717 entries, 0 to 51716\n",
      "Data columns (total 17 columns):\n",
      " #   Column                       Non-Null Count  Dtype \n",
      "---  ------                       --------------  ----- \n",
      " 0   url                          51717 non-null  object\n",
      " 1   address                      51717 non-null  object\n",
      " 2   name                         51717 non-null  object\n",
      " 3   online_order                 51717 non-null  object\n",
      " 4   book_table                   51717 non-null  object\n",
      " 5   rate                         43942 non-null  object\n",
      " 6   votes                        51717 non-null  int64 \n",
      " 7   phone                        50509 non-null  object\n",
      " 8   location                     51696 non-null  object\n",
      " 9   rest_type                    51490 non-null  object\n",
      " 10  dish_liked                   23639 non-null  object\n",
      " 11  cuisines                     51672 non-null  object\n",
      " 12  approx_cost(for two people)  51371 non-null  object\n",
      " 13  reviews_list                 51717 non-null  object\n",
      " 14  menu_item                    51717 non-null  object\n",
      " 15  listed_in(type)              51717 non-null  object\n",
      " 16  listed_in(city)              51717 non-null  object\n",
      "dtypes: int64(1), object(16)\n",
      "memory usage: 6.7+ MB\n"
     ]
    }
   ],
   "source": [
    "#data type,memory used,total entry number\n",
    "df.info()\n"
   ]
  },
  {
   "cell_type": "code",
   "execution_count": 43,
   "id": "833f080c",
   "metadata": {
    "scrolled": false
   },
   "outputs": [
    {
     "data": {
      "text/plain": [
       "url                                   0\n",
       "address                               0\n",
       "name                                  0\n",
       "online_order                          0\n",
       "book_table                            0\n",
       "rate                               7775\n",
       "votes                                 0\n",
       "phone                              1208\n",
       "location                             21\n",
       "rest_type                           227\n",
       "dish_liked                        28078\n",
       "cuisines                             45\n",
       "approx_cost(for two people)         346\n",
       "reviews_list                          0\n",
       "menu_item                             0\n",
       "listed_in(type)                       0\n",
       "listed_in(city)                       0\n",
       "rate_new                              0\n",
       "rate_missing                          0\n",
       "online_order_binary                   0\n",
       "location_new                          0\n",
       "newapprox_cost(for two people)        0\n",
       "dtype: int64"
      ]
     },
     "execution_count": 43,
     "metadata": {},
     "output_type": "execute_result"
    }
   ],
   "source": [
    "#missing values\n",
    "df.isna().sum()"
   ]
  },
  {
   "cell_type": "code",
   "execution_count": 8,
   "id": "04223658",
   "metadata": {},
   "outputs": [],
   "source": [
    "# Create a DataFrame indicating missing values (True for missing, False for not missing)\n",
    "missing_values = df.isnull()"
   ]
  },
  {
   "cell_type": "code",
   "execution_count": 9,
   "id": "f83b6cbe",
   "metadata": {},
   "outputs": [
    {
     "data": {
      "image/png": "[encoded data removed]",
      "text/plain": [
       "<Figure size 1000x600 with 1 Axes>"
      ]
     },
     "metadata": {},
     "output_type": "display_data"
    }
   ],
   "source": [
    "# Create a missing values heatmap using seaborn to know how theyre distributed\n",
    "plt.figure(figsize=(10, 6))\n",
    "sns.heatmap(missing_values, cmap='viridis', cbar=False, yticklabels=False)\n",
    "\n",
    "plt.title('Missing Value Heatmap')\n",
    "plt.show()"
   ]
  },
  {
   "cell_type": "code",
   "execution_count": 10,
   "id": "f83ed80f",
   "metadata": {
    "scrolled": true
   },
   "outputs": [
    {
     "name": "stdout",
     "output_type": "stream",
     "text": [
      "Before cleaning:\n",
      "18042     4.1/5\n",
      "19512     3.9/5\n",
      "37733    4.1 /5\n",
      "47574    3.8 /5\n",
      "34646       NaN\n",
      "43213    3.6 /5\n",
      "28121     3.4/5\n",
      "49985       NaN\n",
      "39134    4.3 /5\n",
      "40973    4.4 /5\n",
      "16241     4.5/5\n",
      "46887    3.5 /5\n",
      "6427      3.4/5\n",
      "3299      2.7/5\n",
      "39580    4.1 /5\n",
      "43599    3.3 /5\n",
      "21178    3.9 /5\n",
      "5572      3.8/5\n",
      "25003     3.6/5\n",
      "25106     3.8/5\n",
      "32876    3.8 /5\n",
      "36064    4.1 /5\n",
      "12459     3.1/5\n",
      "696       4.1/5\n",
      "19226     3.0/5\n",
      "Name: rate, dtype: object\n"
     ]
    }
   ],
   "source": [
    "#clean up the rate column ; since each value is out of 5 anyway \n",
    "# Check the current state of the 'rate' column \n",
    "print(\"Before cleaning:\")\n",
    "print(df['rate'].sample(25))"
   ]
  },
  {
   "cell_type": "code",
   "execution_count": 11,
   "id": "c93972ba",
   "metadata": {},
   "outputs": [
    {
     "name": "stdout",
     "output_type": "stream",
     "text": [
      "\n",
      "After cleaning:\n",
      "0    4.1\n",
      "1    4.1\n",
      "2    3.8\n",
      "3    3.7\n",
      "4    3.8\n",
      "Name: rate_new, dtype: float64\n"
     ]
    }
   ],
   "source": [
    "# Create a new column 'rate_new' with cleaned values\n",
    "df['rate_new'] = df['rate'].str.extract('(\\d+\\.\\d+)').astype(float)\n",
    "\n",
    "# Check the cleaned 'rate_new' column\n",
    "print(\"\\nAfter cleaning:\")\n",
    "print(df['rate_new'].head())"
   ]
  },
  {
   "cell_type": "code",
   "execution_count": 12,
   "id": "f07b47ba",
   "metadata": {},
   "outputs": [],
   "source": [
    "#chi squared test for independence\n",
    "# H0:Independence - the missingness in the rate column has no association with the values in the online_oder_binary column\n",
    "# HA: Dependence - otherwise."
   ]
  },
  {
   "cell_type": "code",
   "execution_count": 13,
   "id": "a4f94277",
   "metadata": {},
   "outputs": [],
   "source": [
    "#perform the chi-squared test for independence between the missingness of each of these columns and the categorical columns\n",
    "#this is to help us understand how we can best impute the missing values in the columns\n",
    "from scipy.stats import chi2_contingency\n",
    "#rate column\n",
    "# Create binary variables indicating missingness\n",
    "df['rate_missing'] = df['rate_new'].isnull().astype(int)\n",
    "df['online_order_binary'] = (df['online_order'] == 'Yes').astype(int)"
   ]
  },
  {
   "cell_type": "code",
   "execution_count": 14,
   "id": "26ab3453",
   "metadata": {},
   "outputs": [
    {
     "name": "stdout",
     "output_type": "stream",
     "text": [
      "Contingency Table:\n",
      "online_order_binary      0      1\n",
      "rate_missing                     \n",
      "0                    14459  27206\n",
      "1                     6814   3238\n"
     ]
    }
   ],
   "source": [
    "# Create a contingency table between the missingness variable and the categorical variable\n",
    "contingency_table = pd.crosstab(df['rate_missing'], df['online_order_binary'])\n",
    "# Display the contingency table\n",
    "print(\"Contingency Table:\")\n",
    "print(contingency_table)"
   ]
  },
  {
   "cell_type": "code",
   "execution_count": 15,
   "id": "c50534d7",
   "metadata": {},
   "outputs": [],
   "source": [
    "#The count of missing rate values seems to be higher when online_order is Yes/1 ; lets confrim the correlation further"
   ]
  },
  {
   "cell_type": "code",
   "execution_count": 16,
   "id": "e01fa537",
   "metadata": {},
   "outputs": [
    {
     "data": {
      "image/png": "[encoded data removed]",
      "text/plain": [
       "<Figure size 800x600 with 1 Axes>"
      ]
     },
     "metadata": {},
     "output_type": "display_data"
    }
   ],
   "source": [
    "# Create a bar plot\n",
    "plt.figure(figsize=(8, 6))\n",
    "sns.countplot(x='online_order_binary', hue='rate_missing', data=df)\n",
    "plt.title('Distribution of Missing Values in \"rate\" based on \"online_order\"')\n",
    "plt.xlabel('Online Order (0: No, 1: Yes)')\n",
    "plt.ylabel('Count')\n",
    "plt.show()"
   ]
  },
  {
   "cell_type": "code",
   "execution_count": 17,
   "id": "6d5ce5ea",
   "metadata": {},
   "outputs": [
    {
     "name": "stdout",
     "output_type": "stream",
     "text": [
      "Chi-squared test for independence between 'rate_missing' and 'online_order_binary':\n",
      "Chi2-stat: 3659.4365457867743, p-value: 0.0\n"
     ]
    }
   ],
   "source": [
    "# Perform chi-squared test for independence\n",
    "chi2_stat, p_value, _, _ = chi2_contingency(contingency_table)\n",
    "# Print results\n",
    "print(f\"Chi-squared test for independence between 'rate_missing' and 'online_order_binary':\")\n",
    "print(f\"Chi2-stat: {chi2_stat}, p-value: {p_value}\")"
   ]
  },
  {
   "cell_type": "code",
   "execution_count": 18,
   "id": "41934150",
   "metadata": {},
   "outputs": [],
   "source": [
    "#CONCLUSION\n",
    "#With a P-Value of 0.0, we reject the null hypothesis.Therefore, there is enough statistical evidence to suggest that\n",
    "#there is an association between the missingness of the 'rate' column and the values of the 'online_order' column."
   ]
  },
  {
   "cell_type": "code",
   "execution_count": 19,
   "id": "48538e61",
   "metadata": {},
   "outputs": [],
   "source": [
    "#impute values in the rate column according to their correlation with the online_order column\n",
    "# Create a copy of the DataFrame to store imputed values\n",
    "df_imputed = df.copy()"
   ]
  },
  {
   "cell_type": "code",
   "execution_count": 20,
   "id": "fd27a2ee",
   "metadata": {},
   "outputs": [],
   "source": [
    "# Identify missing values in the 'rate' column\n",
    "missing_values = df_imputed['rate_new'].isnull()"
   ]
  },
  {
   "cell_type": "code",
   "execution_count": 21,
   "id": "4205aeb8",
   "metadata": {},
   "outputs": [
    {
     "data": {
      "text/html": [
       "<style>#sk-container-id-1 {color: black;}#sk-container-id-1 pre{padding: 0;}#sk-container-id-1 div.sk-toggleable {background-color: white;}#sk-container-id-1 label.sk-toggleable__label {cursor: pointer;display: block;width: 100%;margin-bottom: 0;padding: 0.3em;box-sizing: border-box;text-align: center;}#sk-container-id-1 label.sk-toggleable__label-arrow:before {content: \"▸\";float: left;margin-right: 0.25em;color: #696969;}#sk-container-id-1 label.sk-toggleable__label-arrow:hover:before {color: black;}#sk-container-id-1 div.sk-estimator:hover label.sk-toggleable__label-arrow:before {color: black;}#sk-container-id-1 div.sk-toggleable__content {max-height: 0;max-width: 0;overflow: hidden;text-align: left;background-color: #f0f8ff;}#sk-container-id-1 div.sk-toggleable__content pre {margin: 0.2em;color: black;border-radius: 0.25em;background-color: #f0f8ff;}#sk-container-id-1 input.sk-toggleable__control:checked~div.sk-toggleable__content {max-height: 200px;max-width: 100%;overflow: auto;}#sk-container-id-1 input.sk-toggleable__control:checked~label.sk-toggleable__label-arrow:before {content: \"▾\";}#sk-container-id-1 div.sk-estimator input.sk-toggleable__control:checked~label.sk-toggleable__label {background-color: #d4ebff;}#sk-container-id-1 div.sk-label input.sk-toggleable__control:checked~label.sk-toggleable__label {background-color: #d4ebff;}#sk-container-id-1 input.sk-hidden--visually {border: 0;clip: rect(1px 1px 1px 1px);clip: rect(1px, 1px, 1px, 1px);height: 1px;margin: -1px;overflow: hidden;padding: 0;position: absolute;width: 1px;}#sk-container-id-1 div.sk-estimator {font-family: monospace;background-color: #f0f8ff;border: 1px dotted black;border-radius: 0.25em;box-sizing: border-box;margin-bottom: 0.5em;}#sk-container-id-1 div.sk-estimator:hover {background-color: #d4ebff;}#sk-container-id-1 div.sk-parallel-item::after {content: \"\";width: 100%;border-bottom: 1px solid gray;flex-grow: 1;}#sk-container-id-1 div.sk-label:hover label.sk-toggleable__label {background-color: #d4ebff;}#sk-container-id-1 div.sk-serial::before {content: \"\";position: absolute;border-left: 1px solid gray;box-sizing: border-box;top: 0;bottom: 0;left: 50%;z-index: 0;}#sk-container-id-1 div.sk-serial {display: flex;flex-direction: column;align-items: center;background-color: white;padding-right: 0.2em;padding-left: 0.2em;position: relative;}#sk-container-id-1 div.sk-item {position: relative;z-index: 1;}#sk-container-id-1 div.sk-parallel {display: flex;align-items: stretch;justify-content: center;background-color: white;position: relative;}#sk-container-id-1 div.sk-item::before, #sk-container-id-1 div.sk-parallel-item::before {content: \"\";position: absolute;border-left: 1px solid gray;box-sizing: border-box;top: 0;bottom: 0;left: 50%;z-index: -1;}#sk-container-id-1 div.sk-parallel-item {display: flex;flex-direction: column;z-index: 1;position: relative;background-color: white;}#sk-container-id-1 div.sk-parallel-item:first-child::after {align-self: flex-end;width: 50%;}#sk-container-id-1 div.sk-parallel-item:last-child::after {align-self: flex-start;width: 50%;}#sk-container-id-1 div.sk-parallel-item:only-child::after {width: 0;}#sk-container-id-1 div.sk-dashed-wrapped {border: 1px dashed gray;margin: 0 0.4em 0.5em 0.4em;box-sizing: border-box;padding-bottom: 0.4em;background-color: white;}#sk-container-id-1 div.sk-label label {font-family: monospace;font-weight: bold;display: inline-block;line-height: 1.2em;}#sk-container-id-1 div.sk-label-container {text-align: center;}#sk-container-id-1 div.sk-container {/* jupyter's `normalize.less` sets `[hidden] { display: none; }` but bootstrap.min.css set `[hidden] { display: none !important; }` so we also need the `!important` here to be able to override the default hidden behavior on the sphinx rendered scikit-learn.org. See: https://github.com/scikit-learn/scikit-learn/issues/21755 */display: inline-block !important;position: relative;}#sk-container-id-1 div.sk-text-repr-fallback {display: none;}</style><div id=\"sk-container-id-1\" class=\"sk-top-container\"><div class=\"sk-text-repr-fallback\"><pre>LinearRegression()</pre><b>In a Jupyter environment, please rerun this cell to show the HTML representation or trust the notebook. <br />On GitHub, the HTML representation is unable to render, please try loading this page with nbviewer.org.</b></div><div class=\"sk-container\" hidden><div class=\"sk-item\"><div class=\"sk-estimator sk-toggleable\"><input class=\"sk-toggleable__control sk-hidden--visually\" id=\"sk-estimator-id-1\" type=\"checkbox\" checked><label for=\"sk-estimator-id-1\" class=\"sk-toggleable__label sk-toggleable__label-arrow\">LinearRegression</label><div class=\"sk-toggleable__content\"><pre>LinearRegression()</pre></div></div></div></div></div>"
      ],
      "text/plain": [
       "LinearRegression()"
      ]
     },
     "execution_count": 21,
     "metadata": {},
     "output_type": "execute_result"
    }
   ],
   "source": [
    "# Fit a regression model using 'online_order' as a predictor\n",
    "from sklearn.linear_model import LinearRegression\n",
    "model = LinearRegression()\n",
    "X = df_imputed.loc[~missing_values, ['online_order_binary']]  # Non-missing data\n",
    "y = df_imputed.loc[~missing_values, 'rate_new']  # Observed 'rate' values\n",
    "# Fit the model\n",
    "model.fit(X, y)"
   ]
  },
  {
   "cell_type": "code",
   "execution_count": 22,
   "id": "ac5ee892",
   "metadata": {},
   "outputs": [],
   "source": [
    "# Predict missing values\n",
    "imputed_values = model.predict(df_imputed.loc[missing_values, ['online_order_binary']])"
   ]
  },
  {
   "cell_type": "code",
   "execution_count": 23,
   "id": "4381067a",
   "metadata": {},
   "outputs": [],
   "source": [
    "# Assign imputed values to the 'rate' column in the new column 'rate_imputed'\n",
    "df_imputed.loc[missing_values, 'rate_imputed'] = imputed_values"
   ]
  },
  {
   "cell_type": "code",
   "execution_count": 24,
   "id": "59105096",
   "metadata": {},
   "outputs": [
    {
     "name": "stdout",
     "output_type": "stream",
     "text": [
      "\n",
      "After imputation:\n",
      "       rate_new  rate_imputed online_order\n",
      "16195       3.3           NaN          Yes\n",
      "48062       4.1           NaN           No\n",
      "1372        4.1           NaN           No\n",
      "28903       2.8           NaN           No\n",
      "24314       NaN       3.72244          Yes\n",
      "19033       3.6           NaN           No\n",
      "24841       3.9           NaN           No\n",
      "12474       NaN       3.65907           No\n",
      "18448       NaN       3.65907           No\n",
      "38612       4.6           NaN           No\n",
      "28994       3.8           NaN          Yes\n",
      "23621       4.1           NaN          Yes\n",
      "35759       3.2           NaN          Yes\n",
      "19706       3.9           NaN          Yes\n",
      "1056        3.8           NaN          Yes\n",
      "42983       NaN       3.65907           No\n",
      "4820        4.3           NaN           No\n",
      "6043        4.2           NaN           No\n",
      "12735       3.9           NaN          Yes\n",
      "41546       4.5           NaN           No\n",
      "35312       3.6           NaN          Yes\n",
      "47065       NaN       3.65907           No\n",
      "8391        NaN       3.65907           No\n",
      "47449       4.2           NaN          Yes\n",
      "37454       3.6           NaN           No\n"
     ]
    }
   ],
   "source": [
    "# Check the imputed 'rate_imputed' column\n",
    "print(\"\\nAfter imputation:\")\n",
    "print(df_imputed[['rate_new', 'rate_imputed', 'online_order']].sample(25))\n",
    "#the rate_imputed column contains newly generated values missing in the rate_new column"
   ]
  },
  {
   "cell_type": "code",
   "execution_count": 25,
   "id": "f2ac1488",
   "metadata": {
    "scrolled": true
   },
   "outputs": [
    {
     "name": "stdout",
     "output_type": "stream",
     "text": [
      "\n",
      "After imputation:\n",
      "       rate_new online_order\n",
      "18912   3.60000          Yes\n",
      "41066   3.40000           No\n",
      "39227   3.00000           No\n",
      "50970   3.72244          Yes\n",
      "9459    3.90000          Yes\n",
      "12679   4.40000           No\n",
      "43018   3.65907           No\n",
      "1446    3.90000          Yes\n",
      "41681   3.65907           No\n",
      "42633   4.20000          Yes\n",
      "49908   3.90000          Yes\n",
      "26079   3.72244          Yes\n",
      "45925   4.20000          Yes\n",
      "49213   4.30000          Yes\n",
      "13504   4.00000          Yes\n",
      "33924   4.20000           No\n",
      "19325   3.65907           No\n",
      "17262   3.70000          Yes\n",
      "8549    4.10000          Yes\n",
      "34492   2.80000          Yes\n",
      "3397    3.65907           No\n",
      "44136   3.72244          Yes\n",
      "31261   3.70000           No\n",
      "49312   2.70000           No\n",
      "49712   3.20000          Yes\n",
      "38187   2.10000          Yes\n",
      "51104   3.70000           No\n",
      "939     3.30000          Yes\n",
      "25963   3.50000           No\n",
      "40103   4.10000          Yes\n"
     ]
    }
   ],
   "source": [
    "# Replace NaN values in the original 'rate' column with imputed values\n",
    "df_imputed.loc[missing_values, 'rate_new'] = imputed_values\n",
    "# Check random values in the imputed 'rate' column\n",
    "print(\"\\nAfter imputation:\")\n",
    "print(df_imputed[['rate_new', 'online_order']].sample(30))"
   ]
  },
  {
   "cell_type": "code",
   "execution_count": 26,
   "id": "dfc150bc",
   "metadata": {},
   "outputs": [],
   "source": [
    "#there are still a few values missing in the rate_new column\n",
    "# Calculate the mean of the non-missing values in the 'rate_new' column\n",
    "mean_rate1 = df['rate_new'].mean()\n",
    "\n",
    "# Impute missing values in the 'rate_new' column with the mean\n",
    "df['rate_new'] = df['rate_new'].fillna(mean_rate1)"
   ]
  },
  {
   "cell_type": "code",
   "execution_count": 28,
   "id": "5978e254",
   "metadata": {},
   "outputs": [
    {
     "name": "stdout",
     "output_type": "stream",
     "text": [
      "Before cleaning:\n",
      "25510                 Nagawara\n",
      "35958                      BTM\n",
      "39158                 Majestic\n",
      "45302             Marathahalli\n",
      "44744       Jeevan Bhima Nagar\n",
      "37292                      BTM\n",
      "35804                      BTM\n",
      "28249    Koramangala 5th Block\n",
      "25260                Banaswadi\n",
      "29124                      BTM\n",
      "29283    Koramangala 7th Block\n",
      "35081        Bannerghatta Road\n",
      "2836                 Jayanagar\n",
      "21706                      BTM\n",
      "47342          Cunningham Road\n",
      "5653              Shanti Nagar\n",
      "25254                   Hennur\n",
      "20019                Jayanagar\n",
      "27977                      BTM\n",
      "48876            Sarjapur Road\n",
      "17825              Indiranagar\n",
      "7334                Whitefield\n",
      "36681    Koramangala 5th Block\n",
      "31685                      BTM\n",
      "18226              Indiranagar\n",
      "35167    Koramangala 5th Block\n",
      "2261                  JP Nagar\n",
      "15565             Shivajinagar\n",
      "28377    Koramangala 6th Block\n",
      "28594    Koramangala 7th Block\n",
      "46093              Indiranagar\n",
      "29810            Wilson Garden\n",
      "2742                 Jayanagar\n",
      "683               Banashankari\n",
      "16880                      HSR\n",
      "6904              Marathahalli\n",
      "7610              Marathahalli\n",
      "6679     Koramangala 6th Block\n",
      "10281    Koramangala 5th Block\n",
      "5323              Shanti Nagar\n",
      "8222              Marathahalli\n",
      "22453                      BTM\n",
      "5851             Richmond Road\n",
      "4271                 Bellandur\n",
      "42022              Brookefield\n",
      "38540         Race Course Road\n",
      "24589             Kalyan Nagar\n",
      "15188                   Ulsoor\n",
      "16591                Bellandur\n",
      "20030                      BTM\n",
      "Name: location, dtype: object\n"
     ]
    }
   ],
   "source": [
    "#clean up the rate column ; since each value is out of 5 anyway \n",
    "# Check the current state of the 'rate' column \n",
    "print(\"Before cleaning:\")\n",
    "print(df['location'].sample(50))"
   ]
  },
  {
   "cell_type": "code",
   "execution_count": 29,
   "id": "708d4f59",
   "metadata": {},
   "outputs": [
    {
     "name": "stdout",
     "output_type": "stream",
     "text": [
      "location               False  True \n",
      "listed_in(city)                    \n",
      "BTM                     3278      1\n",
      "Banashankari             863      0\n",
      "Bannerghatta Road       1616      1\n",
      "Basavanagudi            1266      0\n",
      "Bellandur               1227      0\n",
      "Brigade Road            1769      0\n",
      "Brookefield             1518      0\n",
      "Church Street           1827      0\n",
      "Electronic City         1228      1\n",
      "Frazer Town             1185      0\n",
      "HSR                     1740      1\n",
      "Indiranagar             1860      0\n",
      "JP Nagar                2096      0\n",
      "Jayanagar               2371      0\n",
      "Kalyan Nagar            1309      0\n",
      "Kammanahalli            1328      1\n",
      "Koramangala 4th Block   2776      3\n",
      "Koramangala 5th Block   2833      3\n",
      "Koramangala 6th Block   2621      2\n",
      "Koramangala 7th Block   2937      1\n",
      "Lavelle Road            1744      0\n",
      "MG Road                 1811      0\n",
      "Malleshwaram            1095      1\n",
      "Marathahalli            1657      2\n",
      "New BEL Road             740      0\n",
      "Old Airport Road        1425      0\n",
      "Rajajinagar             1075      4\n",
      "Residency Road          1620      0\n",
      "Sarjapur Road           1261      0\n",
      "Whitefield              1620      0\n"
     ]
    }
   ],
   "source": [
    "#Find out if the missing locations are for a specific city\n",
    "# Create a cross-tabulation between 'listed_in(city)' and missing values in 'location'\n",
    "cross_tab = pd.crosstab(df['listed_in(city)'], df['location'].isnull())\n",
    "\n",
    "# Display the cross-tabulation\n",
    "print(cross_tab)\n"
   ]
  },
  {
   "cell_type": "code",
   "execution_count": 30,
   "id": "fae3911c",
   "metadata": {},
   "outputs": [
    {
     "name": "stdout",
     "output_type": "stream",
     "text": [
      "Unique Locations per Listed City:\n",
      "listed_in(city)\n",
      "BTM                      26\n",
      "Banashankari             12\n",
      "Bannerghatta Road        13\n",
      "Basavanagudi             21\n",
      "Bellandur                14\n",
      "Brigade Road             46\n",
      "Brookefield              10\n",
      "Church Street            45\n",
      "Electronic City           5\n",
      "Frazer Town              34\n",
      "HSR                      22\n",
      "Indiranagar              30\n",
      "JP Nagar                 17\n",
      "Jayanagar                26\n",
      "Kalyan Nagar             14\n",
      "Kammanahalli             18\n",
      "Koramangala 4th Block    31\n",
      "Koramangala 5th Block    30\n",
      "Koramangala 6th Block    30\n",
      "Koramangala 7th Block    32\n",
      "Lavelle Road             44\n",
      "MG Road                  42\n",
      "Malleshwaram             18\n",
      "Marathahalli             13\n",
      "New BEL Road              8\n",
      "Old Airport Road         20\n",
      "Rajajinagar              20\n",
      "Residency Road           46\n",
      "Sarjapur Road            11\n",
      "Whitefield                9\n",
      "Name: location, dtype: int64\n"
     ]
    }
   ],
   "source": [
    "# Create a DataFrame with non-null values in 'location' and 'listed_in(city)'\n",
    "valid_locations = df[['location', 'listed_in(city)']].dropna()\n",
    "\n",
    "# Group by 'listed_in(city)' and count unique locations\n",
    "unique_locations_per_city = valid_locations.groupby('listed_in(city)')['location'].nunique()\n",
    "\n",
    "# Display the result\n",
    "print(\"Unique Locations per Listed City:\")\n",
    "print(unique_locations_per_city)"
   ]
  },
  {
   "cell_type": "code",
   "execution_count": 31,
   "id": "ce6e371d",
   "metadata": {},
   "outputs": [],
   "source": [
    "#impute missing values based on the most frequent location within each listed_in(city)\n",
    "# Create a new column 'location_new' to store all location values\n",
    "df['location_new'] = df['location']\n",
    "\n",
    "# Identify missing values in the 'location_new' column\n",
    "missing_values = df['location_new'].isnull()"
   ]
  },
  {
   "cell_type": "code",
   "execution_count": 32,
   "id": "69eba31f",
   "metadata": {},
   "outputs": [],
   "source": [
    "# Group by 'listed_in(city)' and find the most frequent location for each city\n",
    "most_frequent_locations = df.groupby('listed_in(city)')['location_new'].agg(lambda x: x.value_counts().idxmax())"
   ]
  },
  {
   "cell_type": "code",
   "execution_count": 33,
   "id": "f96f8e03",
   "metadata": {},
   "outputs": [
    {
     "name": "stdout",
     "output_type": "stream",
     "text": [
      "After imputation:\n",
      "                    location           location_new        listed_in(city)\n",
      "47255           Brigade Road           Brigade Road         Residency Road\n",
      "26995  Koramangala 7th Block  Koramangala 7th Block  Koramangala 4th Block\n",
      "19362                 Domlur                 Domlur            Indiranagar\n",
      "27731                    BTM                    BTM  Koramangala 4th Block\n",
      "46863            Rajajinagar            Rajajinagar            Rajajinagar\n",
      "41530           Marathahalli           Marathahalli           Marathahalli\n",
      "32636  Koramangala 5th Block  Koramangala 5th Block  Koramangala 6th Block\n",
      "33888  Koramangala 6th Block  Koramangala 6th Block  Koramangala 6th Block\n",
      "13270          Richmond Road          Richmond Road          Church Street\n",
      "46656            Rajajinagar            Rajajinagar            Rajajinagar\n",
      "29838  Koramangala 1st Block  Koramangala 1st Block  Koramangala 5th Block\n",
      "36407  Koramangala 7th Block  Koramangala 7th Block  Koramangala 7th Block\n",
      "18148                MG Road                MG Road            Indiranagar\n",
      "51223             Whitefield             Whitefield             Whitefield\n",
      "7805             Brookefield            Brookefield            Brookefield\n",
      "47114           Malleshwaram           Malleshwaram            Rajajinagar\n",
      "43417           Lavelle Road           Lavelle Road                MG Road\n",
      "12252        Cunningham Road        Cunningham Road          Church Street\n",
      "3441            Basavanagudi           Basavanagudi           Basavanagudi\n",
      "48418           Brigade Road           Brigade Road         Residency Road\n",
      "50385            Brookefield            Brookefield             Whitefield\n",
      "14330        Electronic City        Electronic City        Electronic City\n",
      "30669                    BTM                    BTM  Koramangala 5th Block\n",
      "22594               JP Nagar               JP Nagar               JP Nagar\n",
      "23467      Bannerghatta Road      Bannerghatta Road               JP Nagar\n"
     ]
    }
   ],
   "source": [
    "# Impute missing values in 'location_new' based on the corresponding 'listed_in(city)'\n",
    "df.loc[missing_values, 'location_new'] = df.loc[missing_values, 'listed_in(city)'].map(most_frequent_locations)\n",
    "# Check the imputed 'location_new' column\n",
    "print(\"After imputation:\")\n",
    "print(df[['location', 'location_new', 'listed_in(city)']].sample(25))"
   ]
  },
  {
   "cell_type": "code",
   "execution_count": 34,
   "id": "925d394f",
   "metadata": {},
   "outputs": [
    {
     "name": "stdout",
     "output_type": "stream",
     "text": [
      "Rows with Imputed Values:\n",
      "      location       location_new        listed_in(city)\n",
      "1662       NaN  Bannerghatta Road      Bannerghatta Road\n",
      "9874       NaN                BTM                    BTM\n",
      "13693      NaN    Electronic City        Electronic City\n",
      "16351      NaN                HSR                    HSR\n",
      "26432      NaN       Kalyan Nagar           Kammanahalli\n",
      "26519      NaN                BTM  Koramangala 4th Block\n",
      "27672      NaN                BTM  Koramangala 4th Block\n",
      "28611      NaN                BTM  Koramangala 4th Block\n",
      "29298      NaN                BTM  Koramangala 5th Block\n",
      "30604      NaN                BTM  Koramangala 5th Block\n",
      "31400      NaN                BTM  Koramangala 5th Block\n",
      "32131      NaN                BTM  Koramangala 6th Block\n",
      "33457      NaN                BTM  Koramangala 6th Block\n",
      "34755      NaN                BTM  Koramangala 7th Block\n",
      "40354      NaN       Malleshwaram           Malleshwaram\n",
      "40556      NaN       Marathahalli           Marathahalli\n",
      "41980      NaN       Marathahalli           Marathahalli\n",
      "46586      NaN        Rajajinagar            Rajajinagar\n",
      "46609      NaN        Rajajinagar            Rajajinagar\n",
      "46752      NaN        Rajajinagar            Rajajinagar\n",
      "47134      NaN        Rajajinagar            Rajajinagar\n"
     ]
    }
   ],
   "source": [
    "#View the changes youve made\n",
    "missing_values_original = df['location'].isnull()\n",
    "# Display only rows where 'location' is NaN\n",
    "imputed_locations = df[missing_values_original][['location', 'location_new', 'listed_in(city)']]\n",
    "\n",
    "print(\"Rows with Imputed Values:\")\n",
    "print(imputed_locations)"
   ]
  },
  {
   "cell_type": "code",
   "execution_count": 35,
   "id": "1c8d2e89",
   "metadata": {
    "scrolled": true
   },
   "outputs": [
    {
     "name": "stdout",
     "output_type": "stream",
     "text": [
      "Unique 'rest_type' Count per 'location':\n",
      "location_new\n",
      "BTM                  30\n",
      "Banashankari         27\n",
      "Banaswadi            23\n",
      "Bannerghatta Road    31\n",
      "Basavanagudi         18\n",
      "                     ..\n",
      "West Bangalore        3\n",
      "Whitefield           47\n",
      "Wilson Garden        12\n",
      "Yelahanka             1\n",
      "Yeshwantpur          14\n",
      "Name: rest_type, Length: 93, dtype: int64\n"
     ]
    }
   ],
   "source": [
    "# Count the number of unique 'rest_type' values per 'location'\n",
    "rest_type_per_location = df.groupby('location_new')['rest_type'].nunique()\n",
    "\n",
    "# Display the result\n",
    "print(\"Unique 'rest_type' Count per 'location':\")\n",
    "print(rest_type_per_location)"
   ]
  },
  {
   "cell_type": "code",
   "execution_count": 36,
   "id": "74108871",
   "metadata": {},
   "outputs": [
    {
     "name": "stdout",
     "output_type": "stream",
     "text": [
      "Before imputation:\n",
      "31199      300\n",
      "47060      500\n",
      "11755      550\n",
      "35631      150\n",
      "20441      600\n",
      "43013      400\n",
      "38760      800\n",
      "16508      800\n",
      "33471      500\n",
      "38189    1,300\n",
      "12597    1,400\n",
      "27889      300\n",
      "14613      400\n",
      "36859      800\n",
      "34577      400\n",
      "Name: approx_cost(for two people), dtype: object\n"
     ]
    }
   ],
   "source": [
    "# Check the current state of the 'approx_cost(for two people)' column\n",
    "print(\"Before imputation:\")\n",
    "print(df['approx_cost(for two people)'].sample(15))"
   ]
  },
  {
   "cell_type": "code",
   "execution_count": 37,
   "id": "498c65f7",
   "metadata": {},
   "outputs": [],
   "source": [
    "# Create a new column 'newapprox_cost(for two people)' with original values\n",
    "df['newapprox_cost(for two people)'] = df['approx_cost(for two people)']\n",
    "df['newapprox_cost(for two people)'] = pd.to_numeric(df['newapprox_cost(for two people)'], errors='coerce')\n"
   ]
  },
  {
   "cell_type": "code",
   "execution_count": 38,
   "id": "63d9f93e",
   "metadata": {},
   "outputs": [
    {
     "name": "stdout",
     "output_type": "stream",
     "text": [
      "\n",
      "After imputation:\n",
      "      approx_cost(for two people)  newapprox_cost(for two people)\n",
      "33158                       1,300                      416.630112\n",
      "30980                         300                      300.000000\n",
      "13068                       1,300                      416.630112\n",
      "33130                         300                      300.000000\n",
      "16772                         300                      300.000000\n",
      "37715                       4,100                      416.630112\n",
      "28165                         450                      450.000000\n",
      "40911                         500                      500.000000\n",
      "24097                         750                      750.000000\n",
      "50725                         400                      400.000000\n"
     ]
    }
   ],
   "source": [
    "# Calculate the mean\n",
    "mean_cost = df['newapprox_cost(for two people)'].mean()\n",
    "\n",
    "# Impute missing values in the same column 'newapprox_cost(for two people)' with the mean\n",
    "df['newapprox_cost(for two people)'] = df['newapprox_cost(for two people)'].fillna(mean_cost)\n",
    "\n",
    "# Check the imputed 'newapprox_cost(for two people)' column\n",
    "print(\"\\nAfter imputation:\")\n",
    "print(df[['approx_cost(for two people)', 'newapprox_cost(for two people)']].sample(10))"
   ]
  },
  {
   "cell_type": "code",
   "execution_count": 41,
   "id": "fa77d659",
   "metadata": {},
   "outputs": [],
   "source": [
    "#Handling duplicate rows\n",
    "df.drop_duplicates(inplace=True)\n"
   ]
  },
  {
   "cell_type": "code",
   "execution_count": 47,
   "id": "beb0ce2b",
   "metadata": {},
   "outputs": [
    {
     "name": "stdout",
     "output_type": "stream",
     "text": [
      "Skewness for 'newapprox_cost(for two people)': 0.6309275751664474\n",
      "Skewness for 'rate_new': -0.3660866968729264\n"
     ]
    }
   ],
   "source": [
    "# Calculate skewness for 'newapprox_cost(for two people)' and 'rate_new'\n",
    "from scipy.stats import skew\n",
    "skewness_cost = skew(df['newapprox_cost(for two people)'])\n",
    "skewness_rate = skew(df['rate_new'])\n",
    "\n",
    "print(\"Skewness for 'newapprox_cost(for two people)':\", skewness_cost)\n",
    "print(\"Skewness for 'rate_new':\", skewness_rate)"
   ]
  },
  {
   "cell_type": "code",
   "execution_count": 48,
   "id": "d243775e",
   "metadata": {},
   "outputs": [],
   "source": [
    "##rate_new is skewed to the left--long left tail\n",
    "#while newapprox_cost(for two people) is skewed to the right"
   ]
  },
  {
   "cell_type": "code",
   "execution_count": 49,
   "id": "8e76317d",
   "metadata": {},
   "outputs": [
    {
     "data": {
      "image/png": "[encoded data removed]",
      "text/plain": [
       "<Figure size 1200x600 with 2 Axes>"
      ]
     },
     "metadata": {},
     "output_type": "display_data"
    }
   ],
   "source": [
    "# Set up the figure with two subplots\n",
    "fig, axes = plt.subplots(nrows=1, ncols=2, figsize=(12, 6))\n",
    "\n",
    "# Plot histograms with fitted KDEs for 'newapprox_cost(for two people)' and 'rate_new'\n",
    "sns.histplot(df['newapprox_cost(for two people)'], kde=True, ax=axes[0])\n",
    "axes[0].set_title('Histogram and KDE for newapprox_cost(for two people)')\n",
    "\n",
    "sns.histplot(df['rate_new'], kde=True, ax=axes[1])\n",
    "axes[1].set_title('Histogram and KDE for rate_new')\n",
    "\n",
    "plt.tight_layout()\n",
    "plt.show()"
   ]
  },
  {
   "cell_type": "code",
   "execution_count": 45,
   "id": "dde2ec3b",
   "metadata": {},
   "outputs": [],
   "source": [
    "#Identifying and dealing with outliers\n",
    "#data points where the Z-score is either <-3 or >3 are considered outliers--numeric columns\n",
    "from scipy.stats import zscore\n",
    "z_scores = zscore(df['newapprox_cost(for two people)'])\n",
    "outliers = (z_scores > 3) | (z_scores < -3)\n",
    "\n",
    "z_scores = zscore(df['rate_new'])\n",
    "outliers = (z_scores > 3) | (z_scores < -3)\n"
   ]
  },
  {
   "cell_type": "code",
   "execution_count": 50,
   "id": "1a702761",
   "metadata": {},
   "outputs": [],
   "source": [
    "#Using capping to handle the outliers-- using percentiles since the data is skewed\n",
    "# Define the percentiles for capping (e.g., 95th percentile)\n",
    "percentile_for_capping = 95\n",
    "\n",
    "# Calculate the capping values based on percentiles\n",
    "capping_value_cost = np.percentile(df['newapprox_cost(for two people)'], percentile_for_capping)\n",
    "capping_value_rate = np.percentile(df['rate_new'], percentile_for_capping)\n",
    "\n",
    "# Cap extreme values in 'newapprox_cost(for two people)'\n",
    "df['newapprox_cost(for two people)'] = np.clip(df['newapprox_cost(for two people)'], None, capping_value_cost)\n",
    "\n",
    "# Cap extreme values in 'rate_new'\n",
    "df['rate_new'] = np.clip(df['rate_new'], None, capping_value_rate)"
   ]
  },
  {
   "cell_type": "code",
   "execution_count": 51,
   "id": "5c8ea7a9",
   "metadata": {},
   "outputs": [],
   "source": [
    "# Save DataFrame as a CSV file to same directory as python project\n",
    "df.to_csv('final_zomato.csv', index=False)"
   ]
  },
  {
   "cell_type": "code",
   "execution_count": null,
   "id": "574eb5b7",
   "metadata": {},
   "outputs": [],
   "source": []
  }
 ],
 "metadata": {
  "kernelspec": {
   "display_name": "Python 3 (ipykernel)",
   "language": "python",
   "name": "python3"
  },
  "language_info": {
   "codemirror_mode": {
    "name": "ipython",
    "version": 3
   },
   "file_extension": ".py",
   "mimetype": "text/x-python",
   "name": "python",
   "nbconvert_exporter": "python",
   "pygments_lexer": "ipython3",
   "version": "3.11.4"
  }
 },
 "nbformat": 4,
 "nbformat_minor": 5
}
